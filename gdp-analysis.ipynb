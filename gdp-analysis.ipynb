{
 "cells": [
  {
   "cell_type": "code",
   "execution_count": 115,
   "metadata": {},
   "outputs": [],
   "source": [
    "# imports\n",
    "import requests\n",
    "from bs4 import BeautifulSoup\n",
    "import pandas as pd"
   ]
  },
  {
   "cell_type": "code",
   "execution_count": 116,
   "metadata": {},
   "outputs": [
    {
     "name": "stdout",
     "output_type": "stream",
     "text": [
      "Status code: 200\n"
     ]
    }
   ],
   "source": [
    "# get html\n",
    "response = requests.get('https://worldpopulationreview.com/countries/countries-by-gdp')\n",
    "\n",
    "#print status code\n",
    "print('Status code:', response.status_code, end= '\\n')"
   ]
  },
  {
   "cell_type": "code",
   "execution_count": 117,
   "metadata": {},
   "outputs": [],
   "source": [
    "#Create soup object\n",
    "html = response.content\n",
    "html = BeautifulSoup(html, 'html.parser') \n",
    "\n",
    "# display markup \n",
    "#html.prettify()\n",
    "\n",
    "# selecting element\n",
    "gdp_data_table = html.find(name='table', attrs={'class' : 'jsx-364991517 table is-striped is-hoverable is-fullwidth tp-table-body is-narrow'})\n",
    "gdp_data_row = gdp_data_table.find(name='tbody', attrs={'class':'jsx-364991517'}).find_all(name = 'tr')\n",
    "\n",
    "#print html\n",
    "# gdp_data_row\n"
   ]
  },
  {
   "cell_type": "code",
   "execution_count": 118,
   "metadata": {},
   "outputs": [],
   "source": [
    "# creates empty list\n",
    "gdp_datapoints = list()\n",
    "\n",
    "#Extract data\n",
    "for row in gdp_data_row:\n",
    "    data = row.find_all('td')\n",
    "\n",
    "    data = [td.contents[0] if len(td.contents) == 1 else 'NAN' for td in data] \n",
    "    data[1] = data[1].contents[0]\n",
    "        \n",
    "    country, gdp_imf_20, gdp_un_16, gdp_per_capita, population = data[1:]\n",
    "\n",
    "    gdp_data = {\n",
    "        \"country\" : country,\n",
    "        \"gdp(imf '20)\" : gdp_imf_20,\n",
    "        \"gdp per capita\" : gdp_per_capita,\n",
    "        \"population\" : population\n",
    "    } \n",
    "\n",
    "    gdp_datapoints.append(gdp_data)\n",
    "\n",
    "\n",
    "# print(gdp_datapoints)\n",
    "\n",
    "    "
   ]
  },
  {
   "cell_type": "code",
   "execution_count": 123,
   "metadata": {},
   "outputs": [
    {
     "data": {
      "text/html": [
       "<div>\n",
       "<style scoped>\n",
       "    .dataframe tbody tr th:only-of-type {\n",
       "        vertical-align: middle;\n",
       "    }\n",
       "\n",
       "    .dataframe tbody tr th {\n",
       "        vertical-align: top;\n",
       "    }\n",
       "\n",
       "    .dataframe thead th {\n",
       "        text-align: right;\n",
       "    }\n",
       "</style>\n",
       "<table border=\"1\" class=\"dataframe\">\n",
       "  <thead>\n",
       "    <tr style=\"text-align: right;\">\n",
       "      <th></th>\n",
       "      <th>country</th>\n",
       "      <th>gdp(imf '20)</th>\n",
       "      <th>gdp per capita</th>\n",
       "      <th>population</th>\n",
       "    </tr>\n",
       "  </thead>\n",
       "  <tbody>\n",
       "    <tr>\n",
       "      <th>1</th>\n",
       "      <td>United States</td>\n",
       "      <td>20.89 Tn</td>\n",
       "      <td>$61,763</td>\n",
       "      <td>338,289,857</td>\n",
       "    </tr>\n",
       "    <tr>\n",
       "      <th>2</th>\n",
       "      <td>China</td>\n",
       "      <td>14.86 Tn</td>\n",
       "      <td>$10,423</td>\n",
       "      <td>1,425,887,337</td>\n",
       "    </tr>\n",
       "    <tr>\n",
       "      <th>3</th>\n",
       "      <td>Japan</td>\n",
       "      <td>5.04 Tn</td>\n",
       "      <td>$40,662</td>\n",
       "      <td>123,951,692</td>\n",
       "    </tr>\n",
       "    <tr>\n",
       "      <th>4</th>\n",
       "      <td>Germany</td>\n",
       "      <td>3.84 Tn</td>\n",
       "      <td>$46,100</td>\n",
       "      <td>83,369,843</td>\n",
       "    </tr>\n",
       "    <tr>\n",
       "      <th>5</th>\n",
       "      <td>United Kingdom</td>\n",
       "      <td>2.76 Tn</td>\n",
       "      <td>$40,867</td>\n",
       "      <td>67,508,936</td>\n",
       "    </tr>\n",
       "    <tr>\n",
       "      <th>...</th>\n",
       "      <td>...</td>\n",
       "      <td>...</td>\n",
       "      <td>...</td>\n",
       "      <td>...</td>\n",
       "    </tr>\n",
       "    <tr>\n",
       "      <th>208</th>\n",
       "      <td>New Caledonia</td>\n",
       "      <td>NAN</td>\n",
       "      <td>$32,577</td>\n",
       "      <td>289,950</td>\n",
       "    </tr>\n",
       "    <tr>\n",
       "      <th>209</th>\n",
       "      <td>Anguilla</td>\n",
       "      <td>NAN</td>\n",
       "      <td>$21,285</td>\n",
       "      <td>15,857</td>\n",
       "    </tr>\n",
       "    <tr>\n",
       "      <th>210</th>\n",
       "      <td>Sudan</td>\n",
       "      <td>NAN</td>\n",
       "      <td>$1,768</td>\n",
       "      <td>46,874,204</td>\n",
       "    </tr>\n",
       "    <tr>\n",
       "      <th>211</th>\n",
       "      <td>Syria</td>\n",
       "      <td>NAN</td>\n",
       "      <td>$1,002</td>\n",
       "      <td>22,125,249</td>\n",
       "    </tr>\n",
       "    <tr>\n",
       "      <th>212</th>\n",
       "      <td>Turks and Caicos Islands</td>\n",
       "      <td>NAN</td>\n",
       "      <td>$20,076</td>\n",
       "      <td>45,703</td>\n",
       "    </tr>\n",
       "  </tbody>\n",
       "</table>\n",
       "<p>212 rows × 4 columns</p>\n",
       "</div>"
      ],
      "text/plain": [
       "                      country gdp(imf '20) gdp per capita     population\n",
       "1               United States     20.89 Tn        $61,763    338,289,857\n",
       "2                       China     14.86 Tn        $10,423  1,425,887,337\n",
       "3                       Japan      5.04 Tn        $40,662    123,951,692\n",
       "4                     Germany      3.84 Tn        $46,100     83,369,843\n",
       "5              United Kingdom      2.76 Tn        $40,867     67,508,936\n",
       "..                        ...          ...            ...            ...\n",
       "208             New Caledonia          NAN        $32,577        289,950\n",
       "209                  Anguilla          NAN        $21,285         15,857\n",
       "210                     Sudan          NAN         $1,768     46,874,204\n",
       "211                     Syria          NAN         $1,002     22,125,249\n",
       "212  Turks and Caicos Islands          NAN        $20,076         45,703\n",
       "\n",
       "[212 rows x 4 columns]"
      ]
     },
     "execution_count": 123,
     "metadata": {},
     "output_type": "execute_result"
    }
   ],
   "source": [
    "# create dataframe\n",
    "df_gdp = pd.DataFrame(gdp_datapoints)\n",
    "df_gdp.index = df_gdp.index + 1\n",
    "\n",
    "df_gdp"
   ]
  }
 ],
 "metadata": {
  "kernelspec": {
   "display_name": "Python 3.10.4 ('gdp')",
   "language": "python",
   "name": "python3"
  },
  "language_info": {
   "codemirror_mode": {
    "name": "ipython",
    "version": 3
   },
   "file_extension": ".py",
   "mimetype": "text/x-python",
   "name": "python",
   "nbconvert_exporter": "python",
   "pygments_lexer": "ipython3",
   "version": "3.10.4"
  },
  "orig_nbformat": 4,
  "vscode": {
   "interpreter": {
    "hash": "3c61b125e43854c9b27685273d0ed522810ad819b80645c31656bc814a29b492"
   }
  }
 },
 "nbformat": 4,
 "nbformat_minor": 2
}
